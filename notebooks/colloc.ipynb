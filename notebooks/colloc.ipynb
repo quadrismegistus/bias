{
 "cells": [
  {
   "cell_type": "code",
   "execution_count": 1,
   "metadata": {},
   "outputs": [],
   "source": [
    "import sys; sys.path.append('..')\n",
    "from bias import *\n",
    "import nltk,random"
   ]
  },
  {
   "cell_type": "code",
   "execution_count": 2,
   "metadata": {},
   "outputs": [],
   "source": [
    "fndir='/Users/ryan/lltk_data/corpora/coha/txt/1990s'"
   ]
  },
  {
   "cell_type": "code",
   "execution_count": 3,
   "metadata": {},
   "outputs": [
    {
     "name": "stderr",
     "output_type": "stream",
     "text": [
      "100%|██████████| 100/100 [00:00<00:00, 101.08it/s]\n"
     ]
    },
    {
     "data": {
      "text/plain": [
       "344403"
      ]
     },
     "execution_count": 3,
     "metadata": {},
     "output_type": "execute_result"
    }
   ],
   "source": [
    "words=[]\n",
    "fns=os.listdir(fndir)\n",
    "fns=random.sample(fns,100)\n",
    "for fn in tqdm(fns):\n",
    "    if fn.endswith('.txt'):\n",
    "        with open(os.path.join(fndir,fn)) as f: txt = f.read()\n",
    "        words += nltk.word_tokenize(txt)\n",
    "len(words)"
   ]
  },
  {
   "cell_type": "code",
   "execution_count": 4,
   "metadata": {},
   "outputs": [
    {
     "name": "stdout",
     "output_type": "stream",
     "text": [
      "Displaying 25 of 356 matches:\n",
      "en born . For Sir Alvord was a gentle man , silent in company , devoted to soli\n",
      "nounced nose that made him a handsome man kept her from being considered anythi\n",
      "ving blood relation - and I am an old man . `` Somewhat distressed by this gree\n",
      "ng , a difficulty not remarkable in a man who all his life had been accustomed \n",
      "s was not at home to visitors . `` `` Man was n't dead yet , `` said Mr. Mildma\n",
      "wife , Caroline . A wife is part of a man 's family , I hope . `` `` Not when s\n",
      " her husband 's property into another man 's family . `` `` Then we must hope t\n",
      "ed behind the boot-rack . `` The poor man looked so close to tears that Mrs. Mi\n",
      "`` waldoes `` - after the name of the man who invented them in his story . Now \n",
      "Some years ago I wrote a novel called Man Plus , which was about an astronaut w\n",
      "singing about something that happen , man , is something that happening singing\n",
      "nd thought out in poetry . But this , man , this happening to you right now , m\n",
      "n , this happening to you right now , man , it not happening One Day or Yesterd\n",
      " you listen to the thing right , is a man singing @ @ @ @ @ @ @ @ @ @ of woman \n",
      "s . She go surrender , yes , but that man not boss there . He not even equal . \n",
      " there . He not even equal . The poor man do n't know what to make of the woman\n",
      " running and I running , and a police man stop me , and then ... I wake @ @ @ @\n",
      "Stalin music and you have to give the man his full name . But you see that devi\n",
      "since recovered the ornery voice of a man reluctant to admit how eager he is to\n",
      " @ @ @ @ @ @ @ @ @ fondly recalls the man . The oldest person living right now \n",
      "ppers have no real enemies except for man and the terrestrial animals that find\n",
      "premise , said Wilson , is that `` no man must look to have the government take\n",
      "ent take care of him , but that every man must take care of himself . `` Such g\n",
      "on makes a greater difference between man and man than nature has made between \n",
      " a greater difference between man and man than nature has made between man and \n"
     ]
    }
   ],
   "source": [
    "text = nltk.Text(words)\n",
    "text.concordance('man')"
   ]
  },
  {
   "cell_type": "code",
   "execution_count": 164,
   "metadata": {},
   "outputs": [],
   "source": [
    "def most_similar(m,word,topn=25): return pd.Series(dict(m.most_similar(word,topn=topn)))"
   ]
  },
  {
   "cell_type": "code",
   "execution_count": 168,
   "metadata": {},
   "outputs": [],
   "source": [
    "m = load_model('/Users/ryan/DH/data/models/coha/1975-2000/run_08/model.bin')"
   ]
  },
  {
   "cell_type": "code",
   "execution_count": 241,
   "metadata": {},
   "outputs": [
    {
     "data": {
      "text/plain": [
       "doctor          0.780738\n",
       "intern          0.681867\n",
       "gynecologist    0.681157\n",
       "hospital        0.675986\n",
       "patient         0.675175\n",
       "practitioner    0.672435\n",
       "physician       0.668749\n",
       "nurses          0.668071\n",
       "surgeon         0.660030\n",
       "pediatrician    0.656693\n",
       "deller          0.651863\n",
       "keloid          0.651589\n",
       "icu             0.644895\n",
       "nuala           0.644115\n",
       "comatose        0.642887\n",
       "psychiatrist    0.642885\n",
       "debbie          0.635713\n",
       "obstetrician    0.634100\n",
       "nahum           0.633708\n",
       "checkup         0.632586\n",
       "clinic          0.630396\n",
       "girl            0.625748\n",
       "counselor       0.623674\n",
       "midwife         0.623087\n",
       "maid            0.618695\n",
       "dtype: float64"
      ]
     },
     "execution_count": 241,
     "metadata": {},
     "output_type": "execute_result"
    }
   ],
   "source": [
    "most_similar(m, 'nurse')"
   ]
  },
  {
   "cell_type": "code",
   "execution_count": 242,
   "metadata": {},
   "outputs": [
    {
     "data": {
      "text/plain": [
       "patient         0.781459\n",
       "nurse           0.780738\n",
       "physician       0.755015\n",
       "psychiatrist    0.719401\n",
       "neurologist     0.702746\n",
       "surgeon         0.699983\n",
       "gynecologist    0.698801\n",
       "cardiologist    0.697830\n",
       "checkup         0.696962\n",
       "obstetrician    0.692658\n",
       "dr.             0.659568\n",
       "vet             0.650282\n",
       "nahum           0.646088\n",
       "medication      0.646048\n",
       "biopsy          0.644263\n",
       "prostate        0.639859\n",
       "veterinarian    0.639561\n",
       "keloid          0.639082\n",
       "clinic          0.635929\n",
       "devries         0.635908\n",
       "diabetic        0.634885\n",
       "pediatrician    0.634601\n",
       "mayo            0.634597\n",
       "pathologist     0.629698\n",
       "pediatric       0.628112\n",
       "dtype: float64"
      ]
     },
     "execution_count": 242,
     "metadata": {},
     "output_type": "execute_result"
    }
   ],
   "source": [
    "most_similar(m, 'doctor')"
   ]
  },
  {
   "cell_type": "code",
   "execution_count": 218,
   "metadata": {},
   "outputs": [
    {
     "data": {
      "text/plain": [
       "'dr., veterinarian, devries, nurse, diabetic, vet, medication, pathologist, cardiologist, prostate, biopsy, mayo, pediatric, neurologist'"
      ]
     },
     "execution_count": 218,
     "metadata": {},
     "output_type": "execute_result"
    }
   ],
   "source": [
    "', '.join(set(mn.index) - set(wn.index))"
   ]
  },
  {
   "cell_type": "code",
   "execution_count": 219,
   "metadata": {},
   "outputs": [
    {
     "data": {
      "text/plain": [
       "'hospital, nuala, deller, intern, midwife, maid, debbie, comatose, counselor, icu, nurses, girl, practitioner, doctor'"
      ]
     },
     "execution_count": 219,
     "metadata": {},
     "output_type": "execute_result"
    }
   ],
   "source": [
    "', '.join(set(wn.index) - set(mn.index))"
   ]
  },
  {
   "cell_type": "code",
   "execution_count": 207,
   "metadata": {},
   "outputs": [],
   "source": [
    "# ', '.join(set(wn.index) & set(mn.index))"
   ]
  },
  {
   "cell_type": "code",
   "execution_count": 153,
   "metadata": {},
   "outputs": [],
   "source": [
    "# topneighbs = [w for w,c in m.most_similar('woman',topn=50)] + [w for w,c in m.most_similar('man',topn=50)]\n",
    "# topneighbs = sorted(list(set(topneighbs)))\n",
    "# topneighbs_vecs = [m[w] for w in topneighbs]"
   ]
  },
  {
   "cell_type": "code",
   "execution_count": 237,
   "metadata": {},
   "outputs": [
    {
     "data": {
      "text/html": [
       "<div>\n",
       "<style scoped>\n",
       "    .dataframe tbody tr th:only-of-type {\n",
       "        vertical-align: middle;\n",
       "    }\n",
       "\n",
       "    .dataframe tbody tr th {\n",
       "        vertical-align: top;\n",
       "    }\n",
       "\n",
       "    .dataframe thead th {\n",
       "        text-align: right;\n",
       "    }\n",
       "</style>\n",
       "<table border=\"1\" class=\"dataframe\">\n",
       "  <thead>\n",
       "    <tr style=\"text-align: right;\">\n",
       "      <th></th>\n",
       "      <th>word</th>\n",
       "      <th>cos</th>\n",
       "      <th>rank</th>\n",
       "      <th>focus</th>\n",
       "    </tr>\n",
       "  </thead>\n",
       "  <tbody>\n",
       "    <tr>\n",
       "      <th>0</th>\n",
       "      <td>man</td>\n",
       "      <td>0.843232</td>\n",
       "      <td>0</td>\n",
       "      <td>C-Neighbor of 'woman'</td>\n",
       "    </tr>\n",
       "    <tr>\n",
       "      <th>1</th>\n",
       "      <td>girl</td>\n",
       "      <td>0.822820</td>\n",
       "      <td>1</td>\n",
       "      <td>C-Neighbor of 'woman'</td>\n",
       "    </tr>\n",
       "    <tr>\n",
       "      <th>2</th>\n",
       "      <td>lady</td>\n",
       "      <td>0.726481</td>\n",
       "      <td>2</td>\n",
       "      <td>C-Neighbor of 'woman'</td>\n",
       "    </tr>\n",
       "    <tr>\n",
       "      <th>3</th>\n",
       "      <td>person</td>\n",
       "      <td>0.712783</td>\n",
       "      <td>3</td>\n",
       "      <td>C-Neighbor of 'woman'</td>\n",
       "    </tr>\n",
       "    <tr>\n",
       "      <th>4</th>\n",
       "      <td>teenager</td>\n",
       "      <td>0.705833</td>\n",
       "      <td>4</td>\n",
       "      <td>C-Neighbor of 'woman'</td>\n",
       "    </tr>\n",
       "    <tr>\n",
       "      <th>...</th>\n",
       "      <td>...</td>\n",
       "      <td>...</td>\n",
       "      <td>...</td>\n",
       "      <td>...</td>\n",
       "    </tr>\n",
       "    <tr>\n",
       "      <th>94</th>\n",
       "      <td>devries</td>\n",
       "      <td>0.635908</td>\n",
       "      <td>19</td>\n",
       "      <td>D-Neighbor of 'doctor'</td>\n",
       "    </tr>\n",
       "    <tr>\n",
       "      <th>95</th>\n",
       "      <td>diabetic</td>\n",
       "      <td>0.634885</td>\n",
       "      <td>20</td>\n",
       "      <td>D-Neighbor of 'doctor'</td>\n",
       "    </tr>\n",
       "    <tr>\n",
       "      <th>97</th>\n",
       "      <td>mayo</td>\n",
       "      <td>0.634597</td>\n",
       "      <td>22</td>\n",
       "      <td>D-Neighbor of 'doctor'</td>\n",
       "    </tr>\n",
       "    <tr>\n",
       "      <th>98</th>\n",
       "      <td>pathologist</td>\n",
       "      <td>0.629698</td>\n",
       "      <td>23</td>\n",
       "      <td>D-Neighbor of 'doctor'</td>\n",
       "    </tr>\n",
       "    <tr>\n",
       "      <th>99</th>\n",
       "      <td>pediatric</td>\n",
       "      <td>0.628112</td>\n",
       "      <td>24</td>\n",
       "      <td>D-Neighbor of 'doctor'</td>\n",
       "    </tr>\n",
       "  </tbody>\n",
       "</table>\n",
       "<p>79 rows × 4 columns</p>\n",
       "</div>"
      ],
      "text/plain": [
       "           word       cos  rank                   focus\n",
       "0           man  0.843232     0   C-Neighbor of 'woman'\n",
       "1          girl  0.822820     1   C-Neighbor of 'woman'\n",
       "2          lady  0.726481     2   C-Neighbor of 'woman'\n",
       "3        person  0.712783     3   C-Neighbor of 'woman'\n",
       "4      teenager  0.705833     4   C-Neighbor of 'woman'\n",
       "..          ...       ...   ...                     ...\n",
       "94      devries  0.635908    19  D-Neighbor of 'doctor'\n",
       "95     diabetic  0.634885    20  D-Neighbor of 'doctor'\n",
       "97         mayo  0.634597    22  D-Neighbor of 'doctor'\n",
       "98  pathologist  0.629698    23  D-Neighbor of 'doctor'\n",
       "99    pediatric  0.628112    24  D-Neighbor of 'doctor'\n",
       "\n",
       "[79 rows x 4 columns]"
      ]
     },
     "execution_count": 237,
     "metadata": {},
     "output_type": "execute_result"
    }
   ],
   "source": [
    "n=25\n",
    "tnld = [dict(word=w, cos=c, rank=i, focus=\"C-Neighbor of 'woman'\") for i,(w,c) in enumerate(m.most_similar('woman',topn=n))]\n",
    "tnld+= [dict(word=w, cos=c, rank=i, focus=\"A-Neighbor of 'man'\") for i,(w,c) in enumerate(m.most_similar('man',topn=n))]\n",
    "tnld+= [dict(word=w, cos=c, rank=i, focus=\"B-Neighbor of 'nurse'\") for i,(w,c) in enumerate(m.most_similar('nurse',topn=n))]\n",
    "tnld+= [dict(word=w, cos=c, rank=i, focus=\"D-Neighbor of 'doctor'\") for i,(w,c) in enumerate(m.most_similar('doctor',topn=n))]\n",
    "# tnld+= [dict(word=w, cos=c, rank=i, focus=\"Man-Woman\") for i,(w,c) in enumerate(m.most_similar(['man'],['woman'],topn=n))]\n",
    "# tnld+= [dict(word=w, cos=c, rank=i, focus=\"D-Neighbor of 'cat'\") for i,(w,c) in enumerate(m.most_similar('cat',topn=n))]\n",
    "# tnld+= [dict(word=w, cos=c, rank=i, focus=\"Woman-Man\") for i,(w,c) in enumerate(m.most_similar(['woman'],['man'],topn=n))]\n",
    "tndf = pd.DataFrame(tnld)\n",
    "# s=tndf.word.value_counts()\n",
    "# in_both = set(s[s>1].index)\n",
    "# tndf.loc[tndf.word.isin(in_both), 'focus'] = \"B-Neighbor of all\"\n",
    "tndf=tndf.drop_duplicates('word')\n",
    "tndf"
   ]
  },
  {
   "cell_type": "code",
   "execution_count": 238,
   "metadata": {},
   "outputs": [],
   "source": [
    "# topneighbs+=['woman-man']\n",
    "# topneighbs_vecs+=[m['woman']-m['man']]\n",
    "# topneighbs+=['man-woman']\n",
    "# topneighbs_vecs+=[m['man']-m['woman']]"
   ]
  },
  {
   "cell_type": "code",
   "execution_count": 239,
   "metadata": {},
   "outputs": [
    {
     "data": {
      "text/html": [
       "<div>\n",
       "<style scoped>\n",
       "    .dataframe tbody tr th:only-of-type {\n",
       "        vertical-align: middle;\n",
       "    }\n",
       "\n",
       "    .dataframe tbody tr th {\n",
       "        vertical-align: top;\n",
       "    }\n",
       "\n",
       "    .dataframe thead th {\n",
       "        text-align: right;\n",
       "    }\n",
       "</style>\n",
       "<table border=\"1\" class=\"dataframe\">\n",
       "  <thead>\n",
       "    <tr style=\"text-align: right;\">\n",
       "      <th></th>\n",
       "      <th>word</th>\n",
       "      <th>cos</th>\n",
       "      <th>rank</th>\n",
       "      <th>focus</th>\n",
       "      <th>tsne1</th>\n",
       "      <th>tsne2</th>\n",
       "    </tr>\n",
       "  </thead>\n",
       "  <tbody>\n",
       "    <tr>\n",
       "      <th>0</th>\n",
       "      <td>man</td>\n",
       "      <td>0.843232</td>\n",
       "      <td>0</td>\n",
       "      <td>C-Neighbor of 'woman'</td>\n",
       "      <td>-3.249403</td>\n",
       "      <td>3.300620</td>\n",
       "    </tr>\n",
       "    <tr>\n",
       "      <th>1</th>\n",
       "      <td>girl</td>\n",
       "      <td>0.822820</td>\n",
       "      <td>1</td>\n",
       "      <td>C-Neighbor of 'woman'</td>\n",
       "      <td>-4.348441</td>\n",
       "      <td>2.820009</td>\n",
       "    </tr>\n",
       "    <tr>\n",
       "      <th>2</th>\n",
       "      <td>lady</td>\n",
       "      <td>0.726481</td>\n",
       "      <td>2</td>\n",
       "      <td>C-Neighbor of 'woman'</td>\n",
       "      <td>-3.654186</td>\n",
       "      <td>1.887697</td>\n",
       "    </tr>\n",
       "    <tr>\n",
       "      <th>3</th>\n",
       "      <td>person</td>\n",
       "      <td>0.712783</td>\n",
       "      <td>3</td>\n",
       "      <td>C-Neighbor of 'woman'</td>\n",
       "      <td>-4.826084</td>\n",
       "      <td>2.083223</td>\n",
       "    </tr>\n",
       "    <tr>\n",
       "      <th>4</th>\n",
       "      <td>teenager</td>\n",
       "      <td>0.705833</td>\n",
       "      <td>4</td>\n",
       "      <td>C-Neighbor of 'woman'</td>\n",
       "      <td>-4.069221</td>\n",
       "      <td>2.678518</td>\n",
       "    </tr>\n",
       "    <tr>\n",
       "      <th>...</th>\n",
       "      <td>...</td>\n",
       "      <td>...</td>\n",
       "      <td>...</td>\n",
       "      <td>...</td>\n",
       "      <td>...</td>\n",
       "      <td>...</td>\n",
       "    </tr>\n",
       "    <tr>\n",
       "      <th>74</th>\n",
       "      <td>devries</td>\n",
       "      <td>0.635908</td>\n",
       "      <td>19</td>\n",
       "      <td>D-Neighbor of 'doctor'</td>\n",
       "      <td>-0.665147</td>\n",
       "      <td>-2.221427</td>\n",
       "    </tr>\n",
       "    <tr>\n",
       "      <th>75</th>\n",
       "      <td>diabetic</td>\n",
       "      <td>0.634885</td>\n",
       "      <td>20</td>\n",
       "      <td>D-Neighbor of 'doctor'</td>\n",
       "      <td>0.949907</td>\n",
       "      <td>-1.627047</td>\n",
       "    </tr>\n",
       "    <tr>\n",
       "      <th>76</th>\n",
       "      <td>mayo</td>\n",
       "      <td>0.634597</td>\n",
       "      <td>22</td>\n",
       "      <td>D-Neighbor of 'doctor'</td>\n",
       "      <td>-1.416061</td>\n",
       "      <td>-2.554492</td>\n",
       "    </tr>\n",
       "    <tr>\n",
       "      <th>77</th>\n",
       "      <td>pathologist</td>\n",
       "      <td>0.629698</td>\n",
       "      <td>23</td>\n",
       "      <td>D-Neighbor of 'doctor'</td>\n",
       "      <td>-0.492504</td>\n",
       "      <td>-2.269593</td>\n",
       "    </tr>\n",
       "    <tr>\n",
       "      <th>78</th>\n",
       "      <td>pediatric</td>\n",
       "      <td>0.628112</td>\n",
       "      <td>24</td>\n",
       "      <td>D-Neighbor of 'doctor'</td>\n",
       "      <td>-0.010654</td>\n",
       "      <td>-2.778535</td>\n",
       "    </tr>\n",
       "  </tbody>\n",
       "</table>\n",
       "<p>79 rows × 6 columns</p>\n",
       "</div>"
      ],
      "text/plain": [
       "           word       cos  rank                   focus     tsne1     tsne2\n",
       "0           man  0.843232     0   C-Neighbor of 'woman' -3.249403  3.300620\n",
       "1          girl  0.822820     1   C-Neighbor of 'woman' -4.348441  2.820009\n",
       "2          lady  0.726481     2   C-Neighbor of 'woman' -3.654186  1.887697\n",
       "3        person  0.712783     3   C-Neighbor of 'woman' -4.826084  2.083223\n",
       "4      teenager  0.705833     4   C-Neighbor of 'woman' -4.069221  2.678518\n",
       "..          ...       ...   ...                     ...       ...       ...\n",
       "74      devries  0.635908    19  D-Neighbor of 'doctor' -0.665147 -2.221427\n",
       "75     diabetic  0.634885    20  D-Neighbor of 'doctor'  0.949907 -1.627047\n",
       "76         mayo  0.634597    22  D-Neighbor of 'doctor' -1.416061 -2.554492\n",
       "77  pathologist  0.629698    23  D-Neighbor of 'doctor' -0.492504 -2.269593\n",
       "78    pediatric  0.628112    24  D-Neighbor of 'doctor' -0.010654 -2.778535\n",
       "\n",
       "[79 rows x 6 columns]"
      ]
     },
     "execution_count": 239,
     "metadata": {},
     "output_type": "execute_result"
    }
   ],
   "source": [
    "vecs = [m[w] for w in tndf.word]\n",
    "words=list(tndf.word)\n",
    "# words+=['woman-man','man-woman']\n",
    "# vecs+=[m['woman']-m['man']]\n",
    "# vecs+=[m['man']-m['woman']]\n",
    "\n",
    "vecs_tsne = TSNE(n_components=2).fit_transform(vecs)\n",
    "Xedf=pd.DataFrame(vecs_tsne, columns=['tsne1', 'tsne2']).assign(word=words)\n",
    "Xtndf=tndf.merge(Xedf,on='word',how='outer')\n",
    "# Xtndf.loc[Xtndf.word==\"woman-man\", 'focus']=\"Woman-Man\"\n",
    "# Xtndf.loc[Xtndf.word==\"man-woman\", 'focus']=\"Man-Woman\"\n",
    "Xtndf"
   ]
  },
  {
   "cell_type": "code",
   "execution_count": 240,
   "metadata": {},
   "outputs": [
    {
     "data": {
      "image/png": "[encoded data removed]",
      "text/plain": [
       "<Figure size 800x800 with 1 Axes>"
      ]
     },
     "metadata": {
      "needs_background": "light"
     },
     "output_type": "display_data"
    },
    {
     "data": {
      "text/plain": [
       "<ggplot: (707044121)>"
      ]
     },
     "execution_count": 240,
     "metadata": {},
     "output_type": "execute_result"
    }
   ],
   "source": [
    "p9.options.figure_size=8,8\n",
    "fig=p9.ggplot(p9.aes(x='tsne1', y='tsne2', label='word', color='focus'), data=Xtndf)\n",
    "fig+=p9.geom_text(size=10)\n",
    "fig+=p9.geom_label(size=10, data=Xtndf[Xtndf.word.isin({'man','woman','woman-man','man-woman','nurse','doctor'})], color='black')\n",
    "fig+=p9.scale_color_brewer(type='qual',palette=2)\n",
    "fig+=p9.theme_minimal()\n",
    "fig"
   ]
  },
  {
   "cell_type": "code",
   "execution_count": 257,
   "metadata": {},
   "outputs": [
    {
     "data": {
      "text/plain": [
       "0.8432319"
      ]
     },
     "execution_count": 257,
     "metadata": {},
     "output_type": "execute_result"
    }
   ],
   "source": [
    "m.similarity('woman','man')"
   ]
  },
  {
   "cell_type": "code",
   "execution_count": 266,
   "metadata": {},
   "outputs": [
    {
     "data": {
      "text/plain": [
       "0.6116417"
      ]
     },
     "execution_count": 266,
     "metadata": {},
     "output_type": "execute_result"
    }
   ],
   "source": [
    "m.similarity('nurse','woman')"
   ]
  },
  {
   "cell_type": "code",
   "execution_count": 267,
   "metadata": {},
   "outputs": [
    {
     "data": {
      "text/plain": [
       "0.4687695"
      ]
     },
     "execution_count": 267,
     "metadata": {},
     "output_type": "execute_result"
    }
   ],
   "source": [
    "m.similarity('nurse','man')"
   ]
  },
  {
   "cell_type": "code",
   "execution_count": 263,
   "metadata": {},
   "outputs": [
    {
     "data": {
      "text/plain": [
       "0.4992569"
      ]
     },
     "execution_count": 263,
     "metadata": {},
     "output_type": "execute_result"
    }
   ],
   "source": [
    "m.similarity('doctor','man')"
   ]
  },
  {
   "cell_type": "code",
   "execution_count": 264,
   "metadata": {},
   "outputs": [
    {
     "data": {
      "text/plain": [
       "0.51259255"
      ]
     },
     "execution_count": 264,
     "metadata": {},
     "output_type": "execute_result"
    }
   ],
   "source": [
    "m.similarity('doctor','woman')"
   ]
  },
  {
   "cell_type": "code",
   "execution_count": null,
   "metadata": {},
   "outputs": [],
   "source": []
  },
  {
   "cell_type": "code",
   "execution_count": 251,
   "metadata": {},
   "outputs": [
    {
     "data": {
      "text/plain": [
       "0.4992569"
      ]
     },
     "execution_count": 251,
     "metadata": {},
     "output_type": "execute_result"
    }
   ],
   "source": [
    "m.similarity('man','doctor')"
   ]
  },
  {
   "cell_type": "code",
   "execution_count": 253,
   "metadata": {},
   "outputs": [
    {
     "data": {
      "text/plain": [
       "0.4687695"
      ]
     },
     "execution_count": 253,
     "metadata": {},
     "output_type": "execute_result"
    }
   ],
   "source": [
    "m.similarity('man','nurse')"
   ]
  },
  {
   "cell_type": "code",
   "execution_count": 255,
   "metadata": {},
   "outputs": [
    {
     "data": {
      "text/plain": [
       "0.6116417"
      ]
     },
     "execution_count": 255,
     "metadata": {},
     "output_type": "execute_result"
    }
   ],
   "source": [
    "m.similarity('woman','nurse')"
   ]
  },
  {
   "cell_type": "code",
   "execution_count": 256,
   "metadata": {},
   "outputs": [
    {
     "data": {
      "text/plain": [
       "0.51259255"
      ]
     },
     "execution_count": 256,
     "metadata": {},
     "output_type": "execute_result"
    }
   ],
   "source": [
    "m.similarity('woman','doctor')"
   ]
  },
  {
   "cell_type": "code",
   "execution_count": null,
   "metadata": {},
   "outputs": [],
   "source": []
  },
  {
   "cell_type": "code",
   "execution_count": null,
   "metadata": {},
   "outputs": [],
   "source": []
  }
 ],
 "metadata": {
  "interpreter": {
   "hash": "8d9a62951c4de3cec93df06e5a8769682e2513316501195b5ad08e283a24e7b2"
  },
  "kernelspec": {
   "display_name": "Python 3.8.11 64-bit ('base': conda)",
   "language": "python",
   "name": "python3"
  },
  "language_info": {
   "codemirror_mode": {
    "name": "ipython",
    "version": 3
   },
   "file_extension": ".py",
   "mimetype": "text/x-python",
   "name": "python",
   "nbconvert_exporter": "python",
   "pygments_lexer": "ipython3",
   "version": "3.8.11"
  },
  "orig_nbformat": 4
 },
 "nbformat": 4,
 "nbformat_minor": 2
}
