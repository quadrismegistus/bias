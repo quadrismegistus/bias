{
 "cells": [
  {
   "cell_type": "markdown",
   "metadata": {},
   "source": [
    "# Bias as historical method"
   ]
  },
  {
   "cell_type": "code",
   "execution_count": 1,
   "metadata": {},
   "outputs": [],
   "source": [
    "import sys; sys.path.append('..')\n",
    "from bias import *"
   ]
  },
  {
   "cell_type": "markdown",
   "metadata": {},
   "source": [
    "## Models\n",
    "\n",
    "Let's stick with COHA and Google Ngrams for now."
   ]
  },
  {
   "cell_type": "code",
   "execution_count": 2,
   "metadata": {},
   "outputs": [],
   "source": [
    "# Reorganizing \n",
    "rootdir=os.path.join(os.path.expanduser('~'), 'DH', 'data', 'models')\n",
    "rootdir_ngram = os.path.join(rootdir,'google_ngram')\n",
    "\n",
    "def get_paths_orig(rootdir):\n",
    "    return [\n",
    "        os.path.join(root,fn)\n",
    "        for root,dirs,fns in sorted(os.walk(rootdir))\n",
    "        for fn in sorted(fns)\n",
    "        if fn.endswith('.gz')\n",
    "    ]"
   ]
  },
  {
   "cell_type": "code",
   "execution_count": 3,
   "metadata": {},
   "outputs": [],
   "source": [
    "paths_ngram = get_paths_orig(rootdir_ngram)\n",
    "# paths_ngram"
   ]
  },
  {
   "cell_type": "code",
   "execution_count": 4,
   "metadata": {},
   "outputs": [
    {
     "name": "stderr",
     "output_type": "stream",
     "text": [
      "Mapping do_load_model() [x4]: 100%|██████████| 20/20 [00:06<00:00,  3.07it/s]\n"
     ]
    }
   ],
   "source": [
    "# Convert to bin\n",
    "iterr=pmap_iter(do_load_model, paths_ngram, num_proc=4)\n",
    "for x in iterr: pass"
   ]
  },
  {
   "cell_type": "code",
   "execution_count": 5,
   "metadata": {},
   "outputs": [
    {
     "data": {
      "text/plain": [
       "[]"
      ]
     },
     "execution_count": 5,
     "metadata": {},
     "output_type": "execute_result"
    }
   ],
   "source": [
    "# Reorganizing COHA\n",
    "rootdir_coha=os.path.join(rootdir,'COHA1')\n",
    "coha_paths = [os.path.join(root,fn) for root,dirs,fns in sorted(os.walk(rootdir_coha)) for fn in sorted(fns) if fn.endswith('.gz')]\n",
    "coha_paths"
   ]
  },
  {
   "cell_type": "code",
   "execution_count": 6,
   "metadata": {},
   "outputs": [],
   "source": [
    "def rename_coha_files():\n",
    "    oroot=os.path.join(rootdir,'coha')\n",
    "    for cpath in coha_paths:\n",
    "        cfn=os.path.basename(cpath)\n",
    "        period,_,run,__,___ = cfn.split('.')\n",
    "        p1,p2=period.split('-')\n",
    "        p2=int(p2)+1\n",
    "        period=f'{p1}-{p2}'\n",
    "        opath=os.path.join(oroot,period,run.replace('=','_'),'model.txt.gz')\n",
    "        \n",
    "        odir=os.path.dirname(opath)\n",
    "        if not os.path.exists(odir): os.makedirs(odir)\n",
    "        \n",
    "        ipath_v=cpath.replace('.txt.gz','.vocab.txt')\n",
    "        print(ipath_v)\n",
    "        if os.path.exists(ipath_v):\n",
    "            opath_v=os.path.join(odir,'vocab.txt')\n",
    "        \n",
    "        print(cpath)\n",
    "        print(opath)\n",
    "        os.rename(cpath,opath)\n",
    "        print()\n",
    "        print(ipath_v)\n",
    "        print(opath_v)\n",
    "        os.rename(ipath_v,opath_v)\n",
    "        # break"
   ]
  },
  {
   "cell_type": "code",
   "execution_count": 7,
   "metadata": {},
   "outputs": [
    {
     "name": "stderr",
     "output_type": "stream",
     "text": [
      "Mapping do_load_model() [x4]: 100%|██████████| 70/70 [00:01<00:00, 36.05it/s]\n"
     ]
    }
   ],
   "source": [
    "## Convert new files to bin\n",
    "newpaths_coha = get_paths_orig(os.path.join(rootdir,'coha'))\n",
    "iterr=pmap_iter(do_load_model, newpaths_coha, num_proc=4)\n",
    "for x in iterr: pass"
   ]
  },
  {
   "cell_type": "code",
   "execution_count": null,
   "metadata": {},
   "outputs": [],
   "source": []
  }
 ],
 "metadata": {
  "interpreter": {
   "hash": "8d9a62951c4de3cec93df06e5a8769682e2513316501195b5ad08e283a24e7b2"
  },
  "kernelspec": {
   "display_name": "Python 3.8.11 64-bit ('base': conda)",
   "language": "python",
   "name": "python3"
  },
  "language_info": {
   "codemirror_mode": {
    "name": "ipython",
    "version": 3
   },
   "file_extension": ".py",
   "mimetype": "text/x-python",
   "name": "python",
   "nbconvert_exporter": "python",
   "pygments_lexer": "ipython3",
   "version": "3.8.11"
  },
  "orig_nbformat": 4
 },
 "nbformat": 4,
 "nbformat_minor": 2
}
